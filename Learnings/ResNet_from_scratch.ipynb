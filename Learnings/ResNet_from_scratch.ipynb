{
 "cells": [
  {
   "cell_type": "markdown",
   "metadata": {},
   "source": [
    "## RESNET TRAINING IN TENSORFLOW KERAS"
   ]
  },
  {
   "cell_type": "code",
   "execution_count": 2,
   "metadata": {},
   "outputs": [],
   "source": [
    "import tensorflow as tf\n",
    "from tensorflow import keras\n",
    "from tensorflow.keras import layers\n",
    "from tensorflow.keras import models\n",
    "import numpy as np\n",
    "import datetime as dt"
   ]
  },
  {
   "cell_type": "code",
   "execution_count": 3,
   "metadata": {},
   "outputs": [
    {
     "name": "stdout",
     "output_type": "stream",
     "text": [
      "Train dataset contains 50000 images and each image of shape 32x32 pixels and 3 channels\n"
     ]
    }
   ],
   "source": [
    "TRAIN_MODEL = 'RESNET'\n",
    "\n",
    "(x_train, y_train), (x_test, y_test) = tf.keras.datasets.cifar10.load_data()\n",
    "print('Train dataset contains {} images and each image of shape {}x{} pixels and {} channels'.\n",
    "      format(x_train.shape[0], x_train.shape[1], x_train.shape[2], x_train.shape[3]))"
   ]
  },
  {
   "cell_type": "code",
   "execution_count": 4,
   "metadata": {},
   "outputs": [
    {
     "name": "stdout",
     "output_type": "stream",
     "text": [
      "Given shape: <ShuffleDataset shapes: ((None, 32, 32, 3), (None, 1)), types: (tf.uint8, tf.uint8)>\n",
      "Extracted only central image: <MapDataset shapes: ((None, 24, 24, 3), (None, 1)), types: (tf.float32, tf.uint8)>\n"
     ]
    }
   ],
   "source": [
    "# Training data\n",
    "train_dataset = tf.data.Dataset.from_tensor_slices((x_train, y_train)).batch(64).shuffle(10000)\n",
    "print('Given shape:', train_dataset)\n",
    "train_dataset = train_dataset.map(lambda x, y: (tf.cast(x, tf.float32) / 255.0, y))\n",
    "train_dataset = train_dataset.map(lambda x, y: (tf.image.central_crop(x,0.75), y))\n",
    "print('Extracted only central image:', train_dataset)\n",
    "train_dataset = train_dataset.map(lambda x, y: (tf.image.random_flip_left_right(x), y))\n",
    "train_dataset = train_dataset.repeat()\n"
   ]
  },
  {
   "cell_type": "code",
   "execution_count": 5,
   "metadata": {},
   "outputs": [
    {
     "name": "stdout",
     "output_type": "stream",
     "text": [
      "Generated validation dataset <RepeatDataset shapes: ((None, 24, 24, 3), (None, 1)), types: (tf.float32, tf.uint8)>\n"
     ]
    }
   ],
   "source": [
    "# Validation data\n",
    "valid_dataset = tf.data.Dataset.from_tensor_slices((x_test, y_test)).batch(5000).shuffle(1000)\n",
    "valid_dataset = valid_dataset.map(lambda x, y: (tf.cast(x, tf.float32)/255.0, y))\n",
    "valid_dataset = valid_dataset.map(lambda x, y: (tf.image.central_crop(x, 0.75), y))\n",
    "valid_dataset = valid_dataset.repeat()\n",
    "print('Generated validation dataset', valid_dataset)"
   ]
  },
  {
   "cell_type": "code",
   "execution_count": 8,
   "metadata": {},
   "outputs": [],
   "source": [
    "def res_net_block(input_data, filters, conv_size):\n",
    "    x = layers.Conv2D(filters, conv_size, activation='relu', padding='same')(input_data)\n",
    "    x = layers.BatchNormalization()(x)\n",
    "    x = layers. Conv2D(filters, conv_size, activation=None, padding='same')(x)\n",
    "    x = layers.BatchNormalization()(x)\n",
    "    x = layers.Add()([x, input_data])\n",
    "    x = layers.Activation('relu')(x)\n",
    "    return x\n",
    "    "
   ]
  },
  {
   "cell_type": "code",
   "execution_count": 10,
   "metadata": {},
   "outputs": [],
   "source": [
    "def non_res_net_block(input_data, filters, conv_size):\n",
    "    x = layers.Conv2D(filters, conv_size, activation='relu', padding='same')(input_data)\n",
    "    x = layers.BatchNormalization()(x)\n",
    "    x = layers.Conv2D(filters, conv_size, activation='relu', padding='same')(x)\n",
    "    x = layers.BatchNormalization()(x)\n",
    "    return x"
   ]
  },
  {
   "cell_type": "code",
   "execution_count": 9,
   "metadata": {},
   "outputs": [],
   "source": [
    "inputs = keras.Input(shape=(24, 24, 3))\n",
    "x = layers.Conv2D(32, 3, activation='relu')(inputs)\n",
    "x = layers.Conv2D(64, 3, activation='relu')(x)\n",
    "x = layers.MaxPooling2D(3)(x)\n",
    "\n",
    "if TRAIN_MODEL = 'RESNET':\n",
    "    num_res_net_blocks = 10\n",
    "    for i in range(num_res_net_blocks):\n",
    "        x = res_net_block(x, 64, 3)\n",
    "else:\n",
    "    x = non_res_net_block(x, 64, 3)\n",
    "x = layers.Conv2D(64, 3, activation='relu')(x)\n",
    "x = layers.GlobalAveragePooling2D()(x)\n",
    "x = layers.Dense(256, activation='relu')(x)\n",
    "x = layers.Dropout(0.5)(x)\n",
    "outputs = layers.Dense(10, activation='softmax')(x)\n",
    "\n",
    "res_net_model = keras.Model(inputs, outputs)\n",
    "    \n"
   ]
  },
  {
   "cell_type": "code",
   "execution_count": 13,
   "metadata": {},
   "outputs": [
    {
     "name": "stdout",
     "output_type": "stream",
     "text": [
      "Train for 195 steps, validate for 3 steps\n",
      "Epoch 1/30\n",
      "195/195 [==============================] - 42s 214ms/step - loss: 0.7292 - acc: 0.7502 - val_loss: 0.9266 - val_acc: 0.6880\n",
      "Epoch 2/30\n",
      "195/195 [==============================] - 34s 176ms/step - loss: 0.7328 - acc: 0.7526 - val_loss: 0.9941 - val_acc: 0.6637\n",
      "Epoch 3/30\n",
      "195/195 [==============================] - 32s 162ms/step - loss: 0.7328 - acc: 0.7472 - val_loss: 0.9479 - val_acc: 0.6881\n",
      "Epoch 4/30\n",
      "195/195 [==============================] - 33s 169ms/step - loss: 0.7266 - acc: 0.7576 - val_loss: 0.9883 - val_acc: 0.6757\n",
      "Epoch 5/30\n",
      "195/195 [==============================] - 33s 167ms/step - loss: 0.6848 - acc: 0.7633 - val_loss: 0.8383 - val_acc: 0.7118\n",
      "Epoch 6/30\n",
      "195/195 [==============================] - 33s 169ms/step - loss: 0.6873 - acc: 0.7610 - val_loss: 0.9099 - val_acc: 0.6883\n",
      "Epoch 7/30\n",
      "195/195 [==============================] - 33s 172ms/step - loss: 0.6848 - acc: 0.7679 - val_loss: 0.8764 - val_acc: 0.7074\n",
      "Epoch 8/30\n",
      "195/195 [==============================] - 33s 169ms/step - loss: 0.6868 - acc: 0.7684 - val_loss: 0.8899 - val_acc: 0.7027\n",
      "Epoch 9/30\n",
      "195/195 [==============================] - 32s 166ms/step - loss: 0.6433 - acc: 0.7793 - val_loss: 1.0594 - val_acc: 0.6786\n",
      "Epoch 10/30\n",
      "195/195 [==============================] - 32s 167ms/step - loss: 0.6566 - acc: 0.7719 - val_loss: 0.8348 - val_acc: 0.7204\n",
      "Epoch 11/30\n",
      "195/195 [==============================] - 32s 167ms/step - loss: 0.6554 - acc: 0.7769 - val_loss: 0.8472 - val_acc: 0.7123\n",
      "Epoch 12/30\n",
      "195/195 [==============================] - 32s 166ms/step - loss: 0.6593 - acc: 0.7719 - val_loss: 0.9180 - val_acc: 0.6929\n",
      "Epoch 13/30\n",
      "195/195 [==============================] - 34s 176ms/step - loss: 0.5945 - acc: 0.7979 - val_loss: 0.8853 - val_acc: 0.7141\n",
      "Epoch 14/30\n",
      "195/195 [==============================] - 34s 173ms/step - loss: 0.6241 - acc: 0.7888 - val_loss: 0.7638 - val_acc: 0.7363\n",
      "Epoch 15/30\n",
      "195/195 [==============================] - 33s 170ms/step - loss: 0.6207 - acc: 0.7889 - val_loss: 0.8069 - val_acc: 0.7317\n",
      "Epoch 16/30\n",
      "195/195 [==============================] - 33s 167ms/step - loss: 0.6191 - acc: 0.7909 - val_loss: 0.7762 - val_acc: 0.7416\n",
      "Epoch 17/30\n",
      "195/195 [==============================] - 36s 185ms/step - loss: 0.5814 - acc: 0.7989 - val_loss: 0.7845 - val_acc: 0.7382\n",
      "Epoch 18/30\n",
      "195/195 [==============================] - 34s 173ms/step - loss: 0.5779 - acc: 0.8039 - val_loss: 0.8894 - val_acc: 0.7127\n",
      "Epoch 19/30\n",
      "195/195 [==============================] - 34s 175ms/step - loss: 0.5901 - acc: 0.8001 - val_loss: 1.1226 - val_acc: 0.6609\n",
      "Epoch 20/30\n",
      "195/195 [==============================] - 35s 181ms/step - loss: 0.6017 - acc: 0.7950 - val_loss: 0.8144 - val_acc: 0.7272\n",
      "Epoch 21/30\n",
      "195/195 [==============================] - 36s 183ms/step - loss: 0.5531 - acc: 0.8137 - val_loss: 0.7673 - val_acc: 0.7515\n",
      "Epoch 22/30\n",
      "195/195 [==============================] - 34s 174ms/step - loss: 0.5644 - acc: 0.8083 - val_loss: 1.0108 - val_acc: 0.6907\n",
      "Epoch 23/30\n",
      "195/195 [==============================] - 38s 197ms/step - loss: 0.5712 - acc: 0.8052 - val_loss: 0.7317 - val_acc: 0.7555\n",
      "Epoch 24/30\n",
      "195/195 [==============================] - 35s 181ms/step - loss: 0.5700 - acc: 0.8015 - val_loss: 0.8047 - val_acc: 0.7399\n",
      "Epoch 25/30\n",
      "195/195 [==============================] - 35s 180ms/step - loss: 0.5247 - acc: 0.8189 - val_loss: 0.7976 - val_acc: 0.7385\n",
      "Epoch 26/30\n",
      "195/195 [==============================] - 35s 181ms/step - loss: 0.5176 - acc: 0.8197 - val_loss: 0.8065 - val_acc: 0.7413\n",
      "Epoch 27/30\n",
      "195/195 [==============================] - 37s 188ms/step - loss: 0.5589 - acc: 0.8083 - val_loss: 0.8551 - val_acc: 0.7152\n",
      "Epoch 28/30\n",
      "195/195 [==============================] - 36s 182ms/step - loss: 0.5416 - acc: 0.8158 - val_loss: 0.8008 - val_acc: 0.7410\n",
      "Epoch 29/30\n",
      "195/195 [==============================] - 35s 180ms/step - loss: 0.4893 - acc: 0.8358 - val_loss: 0.7666 - val_acc: 0.7546\n",
      "Epoch 30/30\n",
      "195/195 [==============================] - 36s 185ms/step - loss: 0.5079 - acc: 0.8253 - val_loss: 0.8206 - val_acc: 0.7363\n"
     ]
    }
   ],
   "source": [
    "callbacks = [keras.callbacks.TensorBoard(log_dir='./log/{}'.format(dt.datetime.now().strftime('%Y-%m-%d-%H-%M-%S')), write_images=True)]\n",
    "res_net_model.compile(optimizer=keras.optimizers.Adam(), loss='sparse_categorical_crossentropy',\n",
    "                     metrics=['acc'])\n",
    "history = res_net_model.fit(train_dataset, epochs=30, steps_per_epoch=195, validation_data=valid_dataset, validation_steps=3, callbacks=callbacks)"
   ]
  },
  {
   "cell_type": "code",
   "execution_count": 23,
   "metadata": {},
   "outputs": [
    {
     "data": {
      "image/png": "[encoded data removed]",
      "text/plain": [
       "<Figure size 432x288 with 1 Axes>"
      ]
     },
     "metadata": {
      "needs_background": "light"
     },
     "output_type": "display_data"
    }
   ],
   "source": [
    "import matplotlib.pyplot as plt\n",
    "plt.plot(history.history['acc'], label='accuracy')\n",
    "plt.plot(history.history['loss'], label='losses')\n",
    "plt.legend()\n",
    "plt.xlabel('Epochs')\n",
    "plt.ylabel('Metric value')\n",
    "plt.show()"
   ]
  },
  {
   "cell_type": "markdown",
   "metadata": {},
   "source": [
    "Terminal:\n",
    "\n",
    "tensorboard --logdir ./log/\n",
    "\n",
    "Browser:\n",
    "\n",
    "http://localhost:6006/"
   ]
  },
  {
   "cell_type": "markdown",
   "metadata": {},
   "source": [
    "References:\n",
    "    \n",
    "1. https://adventuresinmachinelearning.com/introduction-resnet-tensorflow-2/\n",
    "2. https://medium.com/@mannasiladittya/building-inception-resnet-v2-in-keras-from-scratch-a3546c4d93f0"
   ]
  }
 ],
 "metadata": {
  "kernelspec": {
   "display_name": "Python (study)",
   "language": "python",
   "name": "study"
  },
  "language_info": {
   "codemirror_mode": {
    "name": "ipython",
    "version": 3
   },
   "file_extension": ".py",
   "mimetype": "text/x-python",
   "name": "python",
   "nbconvert_exporter": "python",
   "pygments_lexer": "ipython3",
   "version": "3.5.6"
  }
 },
 "nbformat": 4,
 "nbformat_minor": 2
}
