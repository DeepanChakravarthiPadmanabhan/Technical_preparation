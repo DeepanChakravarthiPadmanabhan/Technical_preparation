{
 "cells": [
  {
   "cell_type": "markdown",
   "metadata": {},
   "source": [
    "## PYTHON NOTES & PERSONAL LEARNINGS\n",
    "\n",
    "References:\n",
    "\n",
    "1. https://data-flair.training/blogs/python-programming-interview-questions/"
   ]
  },
  {
   "cell_type": "code",
   "execution_count": 3,
   "metadata": {},
   "outputs": [],
   "source": [
    "'''Decorator allows a user to add new functionality to an existing object without modifying its structure.\n",
    "Decorators are usually called before the definition of a function you want to decorate.'''\n",
    "\n",
    "'''Efficient way to count function calls'''\n",
    "\n",
    "'''Decorator function'''\n",
    "\n",
    "def call_counter(func):\n",
    "    def helper(*args, **kwargs):\n",
    "        helper.calls += 1\n",
    "        return func(*args, **kwargs)\n",
    "    helper.calls = 0\n",
    "    helper.__name__= func.__name__\n",
    "    return helper"
   ]
  },
  {
   "cell_type": "code",
   "execution_count": 4,
   "metadata": {},
   "outputs": [],
   "source": [
    "'''Example of decorating function f with call_counter'''\n",
    "@call_counter\n",
    "def f(arg1):\n",
    "    print(arg1)"
   ]
  },
  {
   "cell_type": "code",
   "execution_count": 5,
   "metadata": {},
   "outputs": [
    {
     "name": "stdout",
     "output_type": "stream",
     "text": [
      "0\n",
      "a\n",
      "b\n",
      "c\n",
      "d\n",
      "e\n",
      "5\n"
     ]
    }
   ],
   "source": [
    "'''Example output'''\n",
    "print(f.calls)\n",
    "list_input = ['a','b','c','d','e']\n",
    "for i in list_input:\n",
    "    f(i)   \n",
    "print(f.calls)"
   ]
  },
  {
   "cell_type": "markdown",
   "metadata": {},
   "source": [
    "ravel vs flatten:\n",
    "\n",
    "Ravel is faster than flattening but updates directly to the original array because its a reference."
   ]
  },
  {
   "cell_type": "markdown",
   "metadata": {},
   "source": [
    "numpy concatenate:\n",
    "\n",
    "Concatenate array of lists of different length into a single array along the same length axis. \n",
    "\n",
    "Remember the first argument in concatenate is sequences of array: (array1, array2) or [array1, array2] \n",
    "\n",
    "axis =0, row stacking and axis=1, column stacking2"
   ]
  },
  {
   "cell_type": "code",
   "execution_count": 79,
   "metadata": {},
   "outputs": [
    {
     "name": "stdout",
     "output_type": "stream",
     "text": [
      "Concatenate 2 np arrays to a single numpy array: [[1 2 3]\n",
      " [4 5 6]\n",
      " [7 8 9]]\n",
      "List of arrays: [array([[1, 2, 3],\n",
      "       [4, 5, 6]]) array([[7, 8, 9]])]\n",
      "Concatenate a list of arrays with different row counts to a single array [[1 2 3]\n",
      " [4 5 6]\n",
      " [7 8 9]]\n",
      "Concatenating a single array [[1 2 3]\n",
      " [4 5 6]] along rows:[1 2 3 4 5 6]\n"
     ]
    }
   ],
   "source": [
    "'''numpy concatenate example'''\n",
    "import numpy as np\n",
    "a = np.array([[1, 2, 3], [4, 5, 6]])\n",
    "b = np.array([[7,8,9]])\n",
    "x = np.concatenate((a,b), axis=0)\n",
    "print('Concatenate 2 np arrays to a single numpy array:', x)\n",
    "\n",
    "x_list = list()\n",
    "x_list.append(a)\n",
    "x_list.append(b)\n",
    "x_list = np.array(x_list)\n",
    "print('List of arrays:', x_list)\n",
    "\n",
    "x_new = np.concatenate(x_list, axis=0)\n",
    "print('Concatenate a list of arrays with different row counts to a single array', x_new)\n",
    "\n",
    "x_ = np.concatenate(x_list[0], axis=0)\n",
    "print('Concatenating a single array {} along rows:{}'.format(x_list[0], x_)) \n",
    "# Results in a lesser dim, because [0] provides an 1D array"
   ]
  },
  {
   "cell_type": "code",
   "execution_count": 10,
   "metadata": {},
   "outputs": [
    {
     "name": "stdout",
     "output_type": "stream",
     "text": [
      "22\n",
      "33\n"
     ]
    }
   ],
   "source": [
    "'''Lambda - Anonymous functions'''\n",
    "\n",
    "# lambda arguments : expression\n",
    "\n",
    "def myfunc(n):\n",
    "    return lambda a : a * n\n",
    "\n",
    "mydoubler = myfunc(2)\n",
    "mytripler = myfunc(3)\n",
    "\n",
    "print(mydoubler(11))\n",
    "print(mytripler(11))\n",
    "\n",
    "\n",
    "g = lambda x: x*x*x \n",
    "print(g(7)) # Just an expression return and not a function call."
   ]
  },
  {
   "cell_type": "code",
   "execution_count": 20,
   "metadata": {},
   "outputs": [
    {
     "name": "stdout",
     "output_type": "stream",
     "text": [
      "[1, 4, 9, 16, 25]\n",
      "[1, 2]\n",
      "15\n"
     ]
    }
   ],
   "source": [
    "'''map, filter, reduce'''\n",
    "\n",
    "inp_list = [1, 2, 3, 4, 5]\n",
    "out_list_map = list(map(lambda x: x**2, inp_list))\n",
    "print(out_list_map)\n",
    "\n",
    "out_list_filter = list(filter(lambda x: x<3, inp_list))\n",
    "print(out_list_filter)\n",
    "\n",
    "from functools import reduce\n",
    "out_list_reduce = reduce((lambda x, y: x+y), inp_list)\n",
    "print(out_list_reduce)"
   ]
  },
  {
   "cell_type": "code",
   "execution_count": 9,
   "metadata": {},
   "outputs": [
    {
     "name": "stdout",
     "output_type": "stream",
     "text": [
      "l: [[1, 2, 3], [4, 5, 6], [7, 8, 9]]\n",
      "zip(l):\n",
      "([1, 2, 3],)\n",
      "([4, 5, 6],)\n",
      "([7, 8, 9],)\n",
      "zip(*l)\n",
      "(1, 4, 7)\n",
      "(2, 5, 8)\n",
      "(3, 6, 9)\n",
      "Transposed 2D list [[1, 4, 7], [2, 5, 8], [3, 6, 9]]\n",
      "\n",
      "\n",
      "l: [[[1, 2, 3], [4, 5, 6], [7, 8, 9]]]\n",
      "zip(l):\n",
      "([[1, 2, 3], [4, 5, 6], [7, 8, 9]],)\n",
      "zip(*l)\n",
      "([1, 2, 3],)\n",
      "([4, 5, 6],)\n",
      "([7, 8, 9],)\n",
      "Transposed 3D list [[[1, 2, 3]], [[4, 5, 6]], [[7, 8, 9]]]\n"
     ]
    }
   ],
   "source": [
    "'''Transpose a list'''\n",
    "l = [[1, 2, 3], [4, 5, 6], [7, 8, 9]]\n",
    "print('l:', l)\n",
    "print('zip(l):')\n",
    "for i in zip(l):\n",
    "    print(i)\n",
    "print('zip(*l)')\n",
    "for i in zip(*l):\n",
    "    print(i)\n",
    "transposed_l = list(map(list, zip(*l)))\n",
    "print(\"Transposed 2D list\",transposed_l)\n",
    "print('\\n')\n",
    "l_3D = [[[1, 2, 3], [4, 5, 6], [7, 8, 9]]]\n",
    "print('l:', l_3D)\n",
    "print('zip(l):')\n",
    "for i in zip(l_3D):\n",
    "    print(i)\n",
    "print('zip(*l)')\n",
    "for i in zip(*l_3D):\n",
    "    print(i)\n",
    "transposed_l = list(map(list, zip(*l_3D)))\n",
    "print(\"Transposed 3D list\",transposed_l)"
   ]
  },
  {
   "cell_type": "code",
   "execution_count": 14,
   "metadata": {},
   "outputs": [
    {
     "name": "stdout",
     "output_type": "stream",
     "text": [
      "List in hand: [[1, 'Deepan'], [2, 'Deepan007'], [3, 'DeepanChakravarthi']]\n",
      "List in hand sorted: [[3, 'DeepanChakravarthi'], [2, 'Deepan007'], [1, 'Deepan']]\n"
     ]
    }
   ],
   "source": [
    "dict_ = {1:'Deepan', 2: 'Deepan007', 3:'DeepanChakravarthi'}\n",
    "list_of_dict_ = list()\n",
    "for key,item in dict_.items():\n",
    "    temp = [key,item]\n",
    "    list_of_dict_.append(temp)\n",
    "print('List in hand:',list_of_dict_)\n",
    "list_of_dict_.sort(key = lambda x: x[0], reverse=True)\n",
    "print('List in hand sorted:',list_of_dict_)"
   ]
  },
  {
   "cell_type": "code",
   "execution_count": 32,
   "metadata": {},
   "outputs": [
    {
     "name": "stdout",
     "output_type": "stream",
     "text": [
      "0\n",
      "1\n",
      "4\n"
     ]
    }
   ],
   "source": [
    "'''Generator: It is an object. It does not store the sequence rather creates data on fly.\n",
    "It is callable only once'''\n",
    "\n",
    "mygenerator = (x*x for x in range(3))\n",
    "for i in mygenerator:\n",
    "    print(i)\n",
    "    \n",
    "# Only single pass through\n",
    "for i in mygenerator:\n",
    "    print(i)\n"
   ]
  },
  {
   "cell_type": "code",
   "execution_count": 33,
   "metadata": {},
   "outputs": [
    {
     "name": "stdout",
     "output_type": "stream",
     "text": [
      "0\n",
      "1\n",
      "4\n",
      "0\n",
      "1\n",
      "4\n"
     ]
    }
   ],
   "source": [
    "mygenerator = (x*x for x in range(3))\n",
    "for i in mygenerator:\n",
    "    print(i)\n",
    "\n",
    "mygenerator = (x*x for x in range(3))\n",
    "for i in mygenerator:\n",
    "    print(i)"
   ]
  },
  {
   "cell_type": "code",
   "execution_count": 37,
   "metadata": {},
   "outputs": [
    {
     "name": "stdout",
     "output_type": "stream",
     "text": [
      "<generator object createGenerator at 0x7f773c1396d0>\n",
      "HAHA GENERATOR GENERATED\n",
      "0\n",
      "1\n",
      "4\n"
     ]
    }
   ],
   "source": [
    "'''Yield: Similar to return. But the function will return a generator. \n",
    "Return: returns a specific value\n",
    "Yield: returns a sequence of values\n",
    "'''\n",
    "def createGenerator():\n",
    "    mylist = range(3)\n",
    "    print('HAHA GENERATOR GENERATED')\n",
    "    for i in mylist:\n",
    "        yield i*i\n",
    "\n",
    "mygenerator = createGenerator()\n",
    "print(mygenerator)\n",
    "for i in mygenerator:\n",
    "    print(i)\n",
    "# Only Generator is generated once"
   ]
  },
  {
   "cell_type": "code",
   "execution_count": 78,
   "metadata": {},
   "outputs": [
    {
     "name": "stdout",
     "output_type": "stream",
     "text": [
      "Train data shape: (60000, 28, 28, 1)\n",
      "Test data shape: (10000, 28, 28, 1)\n",
      "Train label shape: (60000, 10)\n",
      "Test label shape: (10000, 10)\n",
      "Input shape: (28, 28, 1)\n",
      "Model: \"sequential_58\"\n",
      "_________________________________________________________________\n",
      "Layer (type)                 Output Shape              Param #   \n",
      "=================================================================\n",
      "first (Conv2D)               (None, 26, 26, 64)        640       \n",
      "_________________________________________________________________\n",
      "second (Conv2D)              (None, 24, 24, 32)        18464     \n",
      "_________________________________________________________________\n",
      "flatten (Flatten)            (None, 18432)             0         \n",
      "_________________________________________________________________\n",
      "output (Dense)               (None, 10)                184330    \n",
      "=================================================================\n",
      "Total params: 203,434\n",
      "Trainable params: 203,434\n",
      "Non-trainable params: 0\n",
      "_________________________________________________________________\n",
      "None\n",
      "Train on 60000 samples, validate on 10000 samples\n",
      "Epoch 1/12\n",
      "59984/60000 [============================>.] - ETA: 0s - loss: 0.1154 - accuracy: 0.9649INFO:tensorflow:Assets written to: ./trial_mnist.ckpt/assets\n",
      "60000/60000 [==============================] - 80s 1ms/sample - loss: 0.1153 - accuracy: 0.9649 - val_loss: 0.0531 - val_accuracy: 0.9831\n",
      "Epoch 2/12\n",
      "59968/60000 [============================>.] - ETA: 0s - loss: 0.0457 - accuracy: 0.9857INFO:tensorflow:Assets written to: ./trial_mnist.ckpt/assets\n",
      "60000/60000 [==============================] - 75s 1ms/sample - loss: 0.0460 - accuracy: 0.9857 - val_loss: 0.0464 - val_accuracy: 0.9861\n",
      "Epoch 3/12\n",
      "59968/60000 [============================>.] - ETA: 0s - loss: 0.0280 - accuracy: 0.9914INFO:tensorflow:Assets written to: ./trial_mnist.ckpt/assets\n",
      "60000/60000 [==============================] - 74s 1ms/sample - loss: 0.0280 - accuracy: 0.9914 - val_loss: 0.0437 - val_accuracy: 0.9869\n",
      "Epoch 4/12\n",
      "59968/60000 [============================>.] - ETA: 0s - loss: 0.0179 - accuracy: 0.9943INFO:tensorflow:Assets written to: ./trial_mnist.ckpt/assets\n",
      "60000/60000 [==============================] - 74s 1ms/sample - loss: 0.0179 - accuracy: 0.9943 - val_loss: 0.0438 - val_accuracy: 0.9872\n",
      "\n",
      "\n",
      "Test loss: 0.04378830689031238\n",
      "Test accuracy: 0.9872\n"
     ]
    },
    {
     "data": {
      "image/png": "[encoded data removed]",
      "text/plain": [
       "<Figure size 432x288 with 1 Axes>"
      ]
     },
     "metadata": {
      "needs_background": "light"
     },
     "output_type": "display_data"
    }
   ],
   "source": [
    "'''Train Mnist using a CNN'''\n",
    "\n",
    "import matplotlib.pyplot as plt\n",
    "\n",
    "import tensorflow as tf\n",
    "from tensorflow.keras import models\n",
    "from tensorflow.keras import layers\n",
    "from tensorflow.keras.datasets import mnist\n",
    "from tensorflow.keras.utils import to_categorical\n",
    "from tensorflow.keras.optimizers import Adam\n",
    "from tensorflow.keras import callbacks\n",
    "\n",
    "'''\n",
    "Reference: https://keras.io/examples/mnist_cnn/\n",
    "'''\n",
    "\n",
    "batch_size = 16\n",
    "epochs = 12\n",
    "learning_rate = 0.001\n",
    "\n",
    "# Get data\n",
    "(x_train, y_train), (x_test, y_test) = mnist.load_data()\n",
    "\n",
    "# Preprocess data\n",
    "x_train = x_train.astype('float32')\n",
    "x_test = x_test.astype('float32')\n",
    "x_train /= 255\n",
    "x_test /= 255\n",
    "rows, cols = x_train.shape[1], x_train.shape[2]\n",
    "x_train = x_train.reshape(x_train.shape[0], rows, cols, 1)\n",
    "x_test = x_test.reshape(x_test.shape[0], rows, cols, 1)\n",
    "y_train = to_categorical(y_train)\n",
    "y_test = to_categorical(y_test)\n",
    "\n",
    "input_shape = (rows, cols, 1)\n",
    "print('Train data shape:', x_train.shape)\n",
    "print('Test data shape:', x_test.shape)\n",
    "print('Train label shape:', y_train.shape)\n",
    "print('Test label shape:', y_test.shape)\n",
    "print('Input shape:', input_shape)\n",
    "\n",
    "# Define model\n",
    "model = models.Sequential()\n",
    "model.add(layers.Conv2D(64, kernel_size=(3,3), activation='relu',\n",
    "                        input_shape=input_shape, name='first'))\n",
    "model.add(layers.Conv2D(32, kernel_size=(3,3), activation='relu',\n",
    "                        name='second'))\n",
    "model.add(layers.Flatten(name='flatten'))\n",
    "model.add(layers.Dense(10, activation='softmax', name='output'))\n",
    "print(model.summary())\n",
    "\n",
    "# Define callbacks\n",
    "model_checkpoint = callbacks.ModelCheckpoint('./trial_mnist.ckpt', monitor='val_loss')\n",
    "early_stopping = callbacks.EarlyStopping(monitor='val_loss')\n",
    "reduce_lr = callbacks.ReduceLROnPlateau(monitor='val_loss')\n",
    "csv_logger = callbacks.CSVLogger('./trial_mnist.csv')\n",
    "tensorboard = callbacks.TensorBoard('./logs', write_images=True)\n",
    "\n",
    "# Model compile\n",
    "model.compile(loss='categorical_crossentropy', metrics=['accuracy'],\n",
    "              optimizer=Adam(learning_rate=learning_rate))\n",
    "\n",
    "# Fit\n",
    "history = model.fit(x_train, y_train, epochs=epochs, batch_size=batch_size,\n",
    "                    validation_data=(x_test, y_test),\n",
    "                   callbacks=[model_checkpoint, early_stopping, reduce_lr, csv_logger, tensorboard])\n",
    "\n",
    "# Evaluation\n",
    "score = model.evaluate(x_test, y_test, verbose=0)\n",
    "print('\\n')\n",
    "print('Test loss:', score[0])\n",
    "print('Test accuracy:', score[1])\n",
    "\n",
    "# Plot\n",
    "plt.plot(history.history['accuracy'], label='Accuracy')\n",
    "plt.plot(history.history['loss'], label='Loss')\n",
    "plt.plot(history.history['val_accuracy'], label='Validation accuracy')\n",
    "plt.plot(history.history['val_loss'], label='Validation loss')\n",
    "plt.legend()\n",
    "plt.grid()\n",
    "plt.ylabel('Metric')\n",
    "plt.ylabel('Epochs')\n",
    "plt.show()"
   ]
  },
  {
   "cell_type": "code",
   "execution_count": 86,
   "metadata": {},
   "outputs": [
    {
     "name": "stdout",
     "output_type": "stream",
     "text": [
      "Enter a string: deepan\n",
      "Not a palindrome\n"
     ]
    }
   ],
   "source": [
    "'''Reverse string'''\n",
    "input_string = input('Enter a string: ')\n",
    "input_string = input_string.lower()\n",
    "if input_string[::-1] == input_string:\n",
    "    print('Palindrome')\n",
    "else:\n",
    "    print('Not a palindrome')"
   ]
  },
  {
   "cell_type": "code",
   "execution_count": 87,
   "metadata": {},
   "outputs": [
    {
     "name": "stdout",
     "output_type": "stream",
     "text": [
      "1\n",
      "2\n",
      "39\n"
     ]
    }
   ],
   "source": [
    "'''Args: Pass unknown number of arguments'''\n",
    "\n",
    "def printer_args(*args):\n",
    "    for i in args:\n",
    "        print(i)\n",
    "        \n",
    "printer_args(1,2,39)"
   ]
  },
  {
   "cell_type": "code",
   "execution_count": 93,
   "metadata": {},
   "outputs": [
    {
     "name": "stdout",
     "output_type": "stream",
     "text": [
      "c 10\n",
      "b 2\n",
      "a 1\n"
     ]
    }
   ],
   "source": [
    "'''kwargs: Pass unknown number of keyword arguments'''\n",
    "def printer_kwargs(**kwargs):\n",
    "    for n in kwargs:\n",
    "        print(n , kwargs[n])\n",
    "\n",
    "printer_kwargs(a=1, b=2, c=10)"
   ]
  },
  {
   "cell_type": "code",
   "execution_count": 94,
   "metadata": {},
   "outputs": [
    {
     "name": "stdout",
     "output_type": "stream",
     "text": [
      "7\n"
     ]
    }
   ],
   "source": [
    "'''Closure in python'''\n",
    "def A(x):\n",
    "    def B():\n",
    "        print(x)\n",
    "    return B\n",
    "A(7)()"
   ]
  },
  {
   "cell_type": "code",
   "execution_count": 109,
   "metadata": {},
   "outputs": [
    {
     "name": "stdout",
     "output_type": "stream",
     "text": [
      "['epoch,accuracy,loss,lr,val_accuracy,val_loss', '0,0.96486664,0.11532304746963394,0.001,0.9831,0.0530750660309277', '1,0.9856667,0.04597918609338376,0.001,0.9861,0.04635525720071164', '2,0.9914167,0.028024158067810397,0.001,0.9869,0.04368171086247603', '3,0.9943333,0.01788586653930791,0.001,0.9872,0.04378830693755099']\n"
     ]
    },
    {
     "data": {
      "text/plain": [
       "5"
      ]
     },
     "execution_count": 109,
     "metadata": {},
     "output_type": "execute_result"
    }
   ],
   "source": [
    "'''Read file'''\n",
    "lines = open('trial_mnist.csv').read().splitlines()\n",
    "print(lines)\n",
    "len(lines)"
   ]
  },
  {
   "cell_type": "code",
   "execution_count": 116,
   "metadata": {},
   "outputs": [
    {
     "data": {
      "text/plain": [
       "('HJJJ', 2)"
      ]
     },
     "execution_count": 116,
     "metadata": {},
     "output_type": "execute_result"
    }
   ],
   "source": [
    "import re\n",
    "re.split(r'A', 'HAHHAHAHA')\n",
    "re.sub(r'A', 'J','HAJA')\n",
    "re.subn(r'A', 'J', 'HAJA')"
   ]
  },
  {
   "cell_type": "code",
   "execution_count": null,
   "metadata": {},
   "outputs": [],
   "source": []
  }
 ],
 "metadata": {
  "kernelspec": {
   "display_name": "Python (study)",
   "language": "python",
   "name": "study"
  },
  "language_info": {
   "codemirror_mode": {
    "name": "ipython",
    "version": 3
   },
   "file_extension": ".py",
   "mimetype": "text/x-python",
   "name": "python",
   "nbconvert_exporter": "python",
   "pygments_lexer": "ipython3",
   "version": "3.5.6"
  }
 },
 "nbformat": 4,
 "nbformat_minor": 2
}
